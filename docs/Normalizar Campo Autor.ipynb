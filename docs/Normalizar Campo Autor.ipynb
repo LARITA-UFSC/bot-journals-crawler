{
 "cells": [
  {
   "cell_type": "code",
   "execution_count": 3,
   "metadata": {
    "collapsed": true
   },
   "outputs": [],
   "source": [
    "# autor = '{\"Fabiano Cataldo de Azevedo\"}'\n",
    "# autor = '{\"Gustavo Henrique de Araújo Freire; Brasil\",\"Isa Maria Freire; Brasil\"}'\n",
    "# autor = '{\"Carlos Henrique Juvêncio; Universidade de Brasília (UnB); Brasil\",\"Georgete Medleg Rodrigues; Universidade de Brasília (UnB); Brasil\"}'\n",
    "autor = '{\"Vera Regina Veiga França; al\tUniversidade Federal de Minas Gerais; Brasil\",\"Paula Guimarães Simões\"}'\n",
    "# autor = '''{\"Ana Paula Silva; Graduada em Biblioteconomia. Mestre em Ciência\n",
    "# da Informação\n",
    "# pelo Programa de Pós-Graduação em\n",
    "# Ciência da Informação (PPGCI/UFMG). Doutoranda em Ciência da Informação\n",
    "# pelo Programa de Pós-Graduação em\n",
    "# Ciência da Informação (PPGCI/UFMG). Analista de Políticas Públicas da Prefeitura Municipal de Belo Horizonte.; Brasil\",\"Alcenir Soares dos Reis; Escola de Ciência da Informação/ Universidade Federal de Minas Gerais; Brasil\"}'''\n",
    "\n",
    "def trim_all(text):\n",
    "    return text.strip()\n",
    "\n",
    "def replace_new_line(text):\n",
    "    return text.replace('\\n', ' ')\n",
    "\n",
    "def parenthesis_to_bracket(text):\n",
    "    return '[' + text[1:-1] + ']'\n",
    "\n",
    "def to_list(text):\n",
    "    import json\n",
    "    return json.loads(text)\n",
    "\n",
    "def get_value_list(value, index):\n",
    "    return (value or [None])[index]"
   ]
  },
  {
   "cell_type": "code",
   "execution_count": 4,
   "metadata": {},
   "outputs": [
    {
     "data": {
      "text/plain": [
       "'[\"Vera Regina Veiga França; al\\tUniversidade Federal de Minas Gerais; Brasil\",\"Paula Guimarães Simões\"]'"
      ]
     },
     "execution_count": 4,
     "metadata": {},
     "output_type": "execute_result"
    }
   ],
   "source": [
    "autores = parenthesis_to_bracket(autor)\n",
    "autores\n",
    "autores = trim_all(autores)\n",
    "autores\n",
    "autores = replace_new_line(autores)\n",
    "autores\n"
   ]
  },
  {
   "cell_type": "code",
   "execution_count": 9,
   "metadata": {},
   "outputs": [
    {
     "data": {
      "text/plain": [
       "[(1, 'Ana Paula Silva'), (2, 'Alcenir Soares dos Reis')]"
      ]
     },
     "execution_count": 9,
     "metadata": {},
     "output_type": "execute_result"
    }
   ],
   "source": [
    "[ (index + 1, ) for index, autor in enumerate(autores)]"
   ]
  },
  {
   "cell_type": "code",
   "execution_count": null,
   "metadata": {
    "collapsed": true
   },
   "outputs": [],
   "source": []
  }
 ],
 "metadata": {
  "kernelspec": {
   "display_name": "Python 3",
   "language": "python",
   "name": "python3"
  },
  "language_info": {
   "codemirror_mode": {
    "name": "ipython",
    "version": 3
   },
   "file_extension": ".py",
   "mimetype": "text/x-python",
   "name": "python",
   "nbconvert_exporter": "python",
   "pygments_lexer": "ipython3",
   "version": "3.6.0"
  }
 },
 "nbformat": 4,
 "nbformat_minor": 2
}
