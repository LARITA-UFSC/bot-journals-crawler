{
 "cells": [
  {
   "cell_type": "code",
   "execution_count": 13,
   "metadata": {},
   "outputs": [
    {
     "ename": "SyntaxError",
     "evalue": "EOL while scanning string literal (<ipython-input-13-ec2b69a93a27>, line 10)",
     "output_type": "error",
     "traceback": [
      "\u001b[0;36m  File \u001b[0;32m\"<ipython-input-13-ec2b69a93a27>\"\u001b[0;36m, line \u001b[0;32m10\u001b[0m\n\u001b[0;31m    regx = re.compile(f'\\s*(?:{sep})\\s*,(?!\\s*Ph\\.D\\.)\\s*)\u001b[0m\n\u001b[0m                                                          ^\u001b[0m\n\u001b[0;31mSyntaxError\u001b[0m\u001b[0;31m:\u001b[0m EOL while scanning string literal\n"
     ]
    }
   ],
   "source": [
    "import re\n",
    "\n",
    "# keywords = 'Joe.8, Dave, Professional, Ph.D. and Someone else, 58.kk'\n",
    "# sep = ','\n",
    "\n",
    "keywords = 'Joe.8. Dave. Professional. Ph.D. and Someone else. 58.kk'\n",
    "\n",
    "regx = re.compile(f'\\s*(?:{sep})\\s*', )\n",
    "\n",
    "print(regx.split(keywords))\n"
   ]
  },
  {
   "cell_type": "code",
   "execution_count": null,
   "metadata": {
    "collapsed": true
   },
   "outputs": [],
   "source": []
  }
 ],
 "metadata": {
  "kernelspec": {
   "display_name": "Python 3",
   "language": "python",
   "name": "python3"
  },
  "language_info": {
   "codemirror_mode": {
    "name": "ipython",
    "version": 3
   },
   "file_extension": ".py",
   "mimetype": "text/x-python",
   "name": "python",
   "nbconvert_exporter": "python",
   "pygments_lexer": "ipython3",
   "version": "3.6.0"
  }
 },
 "nbformat": 4,
 "nbformat_minor": 2
}
