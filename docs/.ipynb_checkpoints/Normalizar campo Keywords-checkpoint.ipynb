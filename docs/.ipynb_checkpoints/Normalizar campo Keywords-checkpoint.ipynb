{
 "cells": [
  {
   "cell_type": "code",
   "execution_count": 44,
   "metadata": {
    "collapsed": true
   },
   "outputs": [],
   "source": [
    "def remove_end_stop(text):\n",
    "    if text.endswith('.'):\n",
    "        return text[:-1]\n",
    "    return text\n",
    "\n",
    "def count_comma(text):\n",
    "    return text.count(',')\n",
    "\n",
    "def count_semicolon(text):\n",
    "    return text.count(';')\n",
    "\n",
    "def count_endpoint(text):\n",
    "    return text.count('.')"
   ]
  },
  {
   "cell_type": "code",
   "execution_count": 46,
   "metadata": {},
   "outputs": [
    {
     "name": "stdout",
     "output_type": "stream",
     "text": [
      "Conceito. Teoria do Conceito. Terminologia. Modelo Conceitual\n",
      "0\n",
      "0\n"
     ]
    }
   ],
   "source": [
    "# keywords = 'Biblioteconomia, Ensino de biblioteconomia, Profissão de bibliotecário.'\n",
    "# keywords = 'Biblioteca Pública da Bahia; História das Bibliotecas; Formação e Desenvolvimento de Coleções'\n",
    "keywords = 'Conceito. Teoria do Conceito. Terminologia. Modelo Conceitual.'\n",
    "keywords = remove_end_stop(keywords)\n",
    "\n",
    "print(keywords)\n",
    "print(count_comma(keywords))\n",
    "print(count_semicolon(keywords))"
   ]
  },
  {
   "cell_type": "code",
   "execution_count": null,
   "metadata": {
    "collapsed": true
   },
   "outputs": [],
   "source": []
  }
 ],
 "metadata": {
  "kernelspec": {
   "display_name": "Python 3",
   "language": "python",
   "name": "python3"
  },
  "language_info": {
   "codemirror_mode": {
    "name": "ipython",
    "version": 3
   },
   "file_extension": ".py",
   "mimetype": "text/x-python",
   "name": "python",
   "nbconvert_exporter": "python",
   "pygments_lexer": "ipython3",
   "version": "3.6.0"
  }
 },
 "nbformat": 4,
 "nbformat_minor": 2
}
