{
 "cells": [
  {
   "cell_type": "code",
   "execution_count": 41,
   "metadata": {},
   "outputs": [],
   "source": [
    "# autor = '{\"Fabiano Cataldo de Azevedo\"}'\n",
    "# autor = '{\"Gustavo Henrique de Araújo Freire; Brasil\",\"Isa Maria Freire; Brasil\"}'\n",
    "# autor = '{\"Carlos Henrique Juvêncio; Universidade de Brasília (UnB); Brasil\",\"Georgete Medleg Rodrigues; Universidade de Brasília (UnB); Brasil\"}'\n",
    "\n",
    "autor = '''{\"Ana Paula Silva; Graduada em Biblioteconomia. Mestre em Ciência\n",
    "da Informação\n",
    "pelo Programa de Pós-Graduação em\n",
    "Ciência da Informação (PPGCI/UFMG). Doutoranda em Ciência da Informação\n",
    "pelo Programa de Pós-Graduação em\n",
    "Ciência da Informação (PPGCI/UFMG). Analista de Políticas Públicas da Prefeitura Municipal de Belo Horizonte.; Brasil\",\"Alcenir Soares dos Reis; Escola de Ciência da Informação/ Universidade Federal de Minas Gerais; Brasil\"}'''\n",
    "\n",
    "def trim_all(text):\n",
    "    return text.strip()\n",
    "\n",
    "def replace_new_line(text):\n",
    "    return text.replace('\\n', ' ')\n",
    "\n",
    "def parenthesis_to_bracket(text):\n",
    "    return '[' + text[1:-1] + ']'\n",
    "\n",
    "def to_list(text):\n",
    "    import json\n",
    "    return json.loads(text)\n"
   ]
  },
  {
   "cell_type": "code",
   "execution_count": 42,
   "metadata": {},
   "outputs": [
    {
     "data": {
      "text/plain": [
       "['Ana Paula Silva; Graduada em Biblioteconomia. Mestre em Ciência da Informação pelo Programa de Pós-Graduação em Ciência da Informação (PPGCI/UFMG). Doutoranda em Ciência da Informação pelo Programa de Pós-Graduação em Ciência da Informação (PPGCI/UFMG). Analista de Políticas Públicas da Prefeitura Municipal de Belo Horizonte.; Brasil',\n",
       " 'Alcenir Soares dos Reis; Escola de Ciência da Informação/ Universidade Federal de Minas Gerais; Brasil']"
      ]
     },
     "execution_count": 42,
     "metadata": {},
     "output_type": "execute_result"
    }
   ],
   "source": [
    "autores = to_list(replace_new_line(trim_all(parenthesis_to_bracket(autor))))\n",
    "autores"
   ]
  },
  {
   "cell_type": "code",
   "execution_count": 43,
   "metadata": {},
   "outputs": [
    {
     "data": {
      "text/plain": [
       "['Ana Paula Silva', 'Alcenir Soares dos Reis']"
      ]
     },
     "execution_count": 43,
     "metadata": {},
     "output_type": "execute_result"
    }
   ],
   "source": [
    "[autor.split(';')[0] for autor in autores]"
   ]
  },
  {
   "cell_type": "code",
   "execution_count": null,
   "metadata": {
    "collapsed": true
   },
   "outputs": [],
   "source": []
  }
 ],
 "metadata": {
  "kernelspec": {
   "display_name": "Python 3",
   "language": "python",
   "name": "python3"
  },
  "language_info": {
   "codemirror_mode": {
    "name": "ipython",
    "version": 3
   },
   "file_extension": ".py",
   "mimetype": "text/x-python",
   "name": "python",
   "nbconvert_exporter": "python",
   "pygments_lexer": "ipython3",
   "version": "3.6.0"
  }
 },
 "nbformat": 4,
 "nbformat_minor": 2
}
