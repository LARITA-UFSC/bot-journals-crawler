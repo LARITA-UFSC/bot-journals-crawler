{
 "cells": [
  {
   "cell_type": "code",
   "execution_count": 10,
   "metadata": {},
   "outputs": [
    {
     "name": "stdout",
     "output_type": "stream",
     "text": [
      "['Joe.8.', 'Dave.', 'Professional. Ph.D.', 'and', 'Someone', 'else.', '58.kk']\n"
     ]
    },
    {
     "name": "stderr",
     "output_type": "stream",
     "text": [
      "/usr/local/var/pyenv/versions/3.6.0/envs/venv-bot-periodicos-capes-ci/lib/python3.6/site-packages/ipykernel_launcher.py:13: FutureWarning: split() requires a non-empty pattern match.\n",
      "  del sys.path[0]\n"
     ]
    }
   ],
   "source": [
    "import re\n",
    "\n",
    "# keywords = 'Joe.8, Dave, Professional, Ph.D. and Someone else, 58.kk'\n",
    "# sep = ','\n",
    "\n",
    "keywords = 'Joe.8. Dave. Professional. Ph.D. and Someone else. 58.kk'\n",
    "sep = '\\.'\n",
    "\n",
    "\n",
    "regx = re.compile(f'\\s*(?:{sep})\\s*')\n",
    "\n",
    "print(regx.split(keywords))\n"
   ]
  },
  {
   "cell_type": "code",
   "execution_count": null,
   "metadata": {
    "collapsed": true
   },
   "outputs": [],
   "source": []
  }
 ],
 "metadata": {
  "kernelspec": {
   "display_name": "Python 3",
   "language": "python",
   "name": "python3"
  },
  "language_info": {
   "codemirror_mode": {
    "name": "ipython",
    "version": 3
   },
   "file_extension": ".py",
   "mimetype": "text/x-python",
   "name": "python",
   "nbconvert_exporter": "python",
   "pygments_lexer": "ipython3",
   "version": "3.6.0"
  }
 },
 "nbformat": 4,
 "nbformat_minor": 2
}
